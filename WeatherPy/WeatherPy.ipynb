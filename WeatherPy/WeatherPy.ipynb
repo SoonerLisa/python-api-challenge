{
 "cells": [
  {
   "cell_type": "markdown",
   "metadata": {},
   "source": [
    "# WeatherPy\n",
    "\n",
    "---\n",
    "\n",
    "## Starter Code to Generate Random Geographic Coordinates and a List of Cities"
   ]
  },
  {
   "cell_type": "code",
   "execution_count": 1,
   "metadata": {
    "scrolled": true
   },
   "outputs": [],
   "source": [
    "# Dependencies and Setup\n",
    "import matplotlib.pyplot as plt\n",
    "import pandas as pd\n",
    "import numpy as np\n",
    "import requests\n",
    "import time\n",
    "import datetime\n",
    "from scipy.stats import linregress\n",
    "\n",
    "# Import the OpenWeatherMap API key\n",
    "from api_keys import weather_api_key\n",
    "\n",
    "# Import citipy to determine the cities based on latitude and longitude\n",
    "\n",
    "from citipy import citipy"
   ]
  },
  {
   "cell_type": "markdown",
   "metadata": {},
   "source": [
    "### Generate the Cities List by Using the `citipy` Library"
   ]
  },
  {
   "cell_type": "code",
   "execution_count": 2,
   "metadata": {},
   "outputs": [
    {
     "name": "stdout",
     "output_type": "stream",
     "text": [
      "Number of cities in the list: 591\n"
     ]
    }
   ],
   "source": [
    "# Empty list for holding the latitude and longitude combinations\n",
    "lat_lngs = []\n",
    "\n",
    "# Empty list for holding the cities names\n",
    "cities = []\n",
    "\n",
    "# Range of latitudes and longitudes\n",
    "lat_range = (-90, 90)\n",
    "lng_range = (-180, 180)\n",
    "\n",
    "# Create a set of random lat and lng combinations\n",
    "lats = np.random.uniform(lat_range[0], lat_range[1], size=1500)\n",
    "lngs = np.random.uniform(lng_range[0], lng_range[1], size=1500)\n",
    "lat_lngs = zip(lats, lngs)\n",
    "\n",
    "# Identify nearest city for each lat, lng combination\n",
    "for lat_lng in lat_lngs:\n",
    "    city = citipy.nearest_city(lat_lng[0], lat_lng[1]).city_name\n",
    "\n",
    "    # If the city is unique, then add it to a our cities list\n",
    "    if city not in cities:\n",
    "        cities.append(city)\n",
    "\n",
    "# Print the city count to confirm sufficient count\n",
    "print(f\"Number of cities in the list: {len(cities)}\")"
   ]
  },
  {
   "cell_type": "markdown",
   "metadata": {},
   "source": [
    "---"
   ]
  },
  {
   "cell_type": "markdown",
   "metadata": {},
   "source": [
    "## Requirement 1: Create Plots to Showcase the Relationship Between Weather Variables and Latitude\n",
    "\n",
    "### Use the OpenWeatherMap API to retrieve weather data from the cities list generated in the started code"
   ]
  },
  {
   "cell_type": "code",
   "execution_count": 8,
   "metadata": {},
   "outputs": [
    {
     "name": "stdout",
     "output_type": "stream",
     "text": [
      "Beginning Data Retrieval     \n",
      "-----------------------------\n",
      "Processing Record 1 of Set 1 | City_ID,City,Lat,Lng,Max Temp,Humidity,Cloudiness,Wind Speed,Country,Date\n",
      "Processing Record 2 of Set 1 | 0,faya,18.3851,42.4509,22.06,35,21,2.6,SA,1666108228\n",
      "Processing Record 3 of Set 1 | 1,farsund,58.0948,6.8047,13.3,100,0,7.65,NO,1666108228\n",
      "Processing Record 4 of Set 1 | 2,new norfolk,-42.7826,147.0587,11.72,58,12,1.34,AU,1666108230\n",
      "Processing Record 5 of Set 1 | 3,jamestown,42.097,-79.2353,5.77,77,100,9.77,US,1666107934\n",
      "Processing Record 6 of Set 1 | 4,lanzhou,36.0564,103.7922,14.53,48,59,1.2,CN,1666108230\n",
      "Processing Record 7 of Set 1 | 5,ushuaia,-54.8,-68.3,8.81,81,75,3.09,AR,1666108231\n",
      "Processing Record 8 of Set 1 | 6,albany,42.6001,-73.9662,10.36,74,29,2.1,US,1666108231\n",
      "Processing Record 9 of Set 1 | 7,carnarvon,-24.8667,113.6333,20.02,76,0,7.46,AU,1666108232\n",
      "Processing Record 10 of Set 1 | 8,sisimiut,66.9395,-53.6735,2.72,98,100,3.79,GL,1666108235\n",
      "Processing Record 11 of Set 1 | 9,saint-pierre,-21.3393,55.4781,22.82,68,0,5.14,RE,1666108236\n",
      "Processing Record 12 of Set 1 | 10,colorado,-22.8375,-51.9731,20.36,86,96,4.69,BR,1666107965\n",
      "Processing Record 13 of Set 1 | 11,nikolskoye,59.7035,30.7861,8.94,90,100,3.22,RU,1666108237\n",
      "Processing Record 14 of Set 1 | 12,trairi,-3.2778,-39.2689,31.07,51,34,8.09,BR,1666108038\n",
      "Processing Record 15 of Set 1 | 13,dobryanka,58.4619,56.4165,5.63,93,100,3.55,RU,1666108237\n",
      "Processing Record 16 of Set 1 | 14,qaanaaq,77.484,-69.3632,-17.32,74,86,3.36,GL,1666108238\n",
      "Processing Record 17 of Set 1 | 15,mataura,-46.1927,168.8643,2.89,96,97,1.36,NZ,1666108238\n",
      "Processing Record 18 of Set 1 | 16,khatanga,71.9667,102.5,-3.46,96,100,9.84,RU,1666108239\n",
      "Processing Record 19 of Set 1 | 17,tasiilaq,65.6145,-37.6368,2.39,84,99,2.38,GL,1666108239\n",
      "Processing Record 20 of Set 1 | 18,tiksi,71.6872,128.8694,-13.6,93,100,3.09,RU,1666108240\n",
      "Processing Record 21 of Set 1 | 19,puerto ayora,-0.7393,-90.3518,22.98,82,41,1.79,EC,1666108242\n",
      "Processing Record 22 of Set 1 | 20,avarua,-21.2078,-159.775,22.03,73,20,2.57,CK,1666108220\n",
      "Processing Record 23 of Set 1 | 21,nuevo laredo,27.4763,-99.5164,12.15,87,75,3.6,MX,1666108147\n",
      "Processing Record 24 of Set 1 | 22,guiratinga,-16.3494,-53.7583,38.35,14,22,3.1,BR,1666108243\n",
      "Processing Record 25 of Set 1 | 23,rikitea,-23.1203,-134.9692,20.41,65,77,9.23,PF,1666108244\n",
      "-----------------------------\n",
      "Data Retrieval Complete      \n",
      "-----------------------------\n"
     ]
    }
   ],
   "source": [
    "# Set the API base URL\n",
    "api_key = 'ef2136e3787f182c09441daecd26b3e1'\n",
    "base_url = 'http://api.openweathermap.org/data/2.5/weather?'\n",
    "\n",
    "# Define an empty list to fetch the weather data for each city\n",
    "cities = []\n",
    "try: \n",
    "    with open('cities.csv','r') as file:\n",
    "        for line in file:\n",
    "            city = line.strip()\n",
    "            if city:\n",
    "                cities.append(city)\n",
    "except FileNotFoundError:\n",
    "    print(\"Error: The file 'cities.csv' was not found.\")\n",
    "\n",
    "# Print to logger\n",
    "print(\"Beginning Data Retrieval     \")\n",
    "print(\"-----------------------------\")\n",
    "\n",
    "# Create counters\n",
    "record_count = 1\n",
    "set_count = 1\n",
    "\n",
    "weather_data = []\n",
    "\n",
    "#Control how many records print while still processing all cities in the loop\n",
    "max_prints = 25  # Print this many statements\n",
    "print_count = 0  # Initialize a counter\n",
    "\n",
    "# Loop through all the cities in our list to fetch weather data\n",
    "for i, city in enumerate(cities):\n",
    "\n",
    "    # Group cities in sets of 50 for logging purposes\n",
    "    if (i % 50 == 0 and i >= 50):\n",
    "        set_count += 1\n",
    "        record_count = 0\n",
    "    \n",
    "    # Log the url, record, and set numbers    \n",
    "    if print_count < max_prints:  # shows if we printed less than the limit\n",
    "        print(\"Processing Record %s of Set %s | %s\" % (record_count, set_count, city))\n",
    "        print_count += 1  # Increment the print counter\n",
    "  \n",
    "    # Add 1 to the record count\n",
    "    record_count += 1\n",
    "\n",
    "# Create endpoint URL with each city\n",
    "    query_url = f\"{base_url}appid={api_key}&q={city}&units=metric\"\n",
    "\n",
    "    weather_response = requests.get(query_url)\n",
    "\n",
    "# Parse the JSON and retrieve data\n",
    "    if weather_response.status_code == 200:\n",
    "        weather_json = weather_response.json()\n",
    "    \n",
    "    # Run an API request for each of the cities\n",
    "        try: \n",
    "\n",
    "        # Parse out latitude, longitude, max temp, humidity, cloudiness, wind speed, country, and date\n",
    "            city_lat = weather_json['coord']['lat']\n",
    "            city_lng = weather_json['coord']['lon']\n",
    "            city_max_temp = weather_json['main']['temp_max']\n",
    "            city_humidity = weather_json['main']['humidity']\n",
    "            city_clouds = weather_json['clouds']['all']\n",
    "            city_wind = weather_json['wind']['speed']\n",
    "            city_country = weather_json['sys']['country']\n",
    "            city_date = weather_json['dt']\n",
    "        \n",
    "            dt = datetime.datetime.fromtimestamp(city_date).strftime('%Y-%m-%d %H:%M:%S')\n",
    "  \n",
    "\n",
    "        # Append the City information into weather_data list\n",
    "            weather_data.append({\n",
    "                \"City\": city,\n",
    "                \"Lat\": city_lat,\n",
    "                \"Lng\": city_lng,\n",
    "                \"Max Temp\": city_max_temp,\n",
    "                \"Humidity\": city_humidity,\n",
    "                \"Cloudiness\": city_clouds,\n",
    "                \"Wind Speed\": city_wind,\n",
    "                \"Country\": city_country,\n",
    "                \"Date\": dt\n",
    "            })\n",
    "\n",
    "    # If an error is experienced, skip the city\n",
    "        except KeyError as e:\n",
    "            print(f\"City not found. Skipping {city}: {e}...\")\n",
    "    else:\n",
    "        pass\n",
    "\n",
    "    # pause to avoid rate limiting\n",
    "    time.sleep(1)\n",
    "#print(weather_data)\n",
    "# Indicate that Data Loading is complete\n",
    "print(\"-----------------------------\")\n",
    "print(\"Data Retrieval Complete      \")\n",
    "print(\"-----------------------------\")"
   ]
  },
  {
   "cell_type": "code",
   "execution_count": 20,
   "metadata": {},
   "outputs": [
    {
     "data": {
      "text/plain": [
       "City          187\n",
       "Lat           187\n",
       "Lng           187\n",
       "Max Temp      187\n",
       "Humidity      187\n",
       "Cloudiness    187\n",
       "Wind Speed    187\n",
       "Country       187\n",
       "Date          187\n",
       "dtype: int64"
      ]
     },
     "execution_count": 20,
     "metadata": {},
     "output_type": "execute_result"
    }
   ],
   "source": [
    "# Convert the cities weather data into a Pandas DataFrame\n",
    "city_data_df = pd.DataFrame(weather_data)\n",
    "\n",
    "# Show Record Count\n",
    "city_data_df.count()"
   ]
  },
  {
   "cell_type": "code",
   "execution_count": 21,
   "metadata": {},
   "outputs": [
    {
     "data": {
      "text/html": [
       "<div>\n",
       "<style scoped>\n",
       "    .dataframe tbody tr th:only-of-type {\n",
       "        vertical-align: middle;\n",
       "    }\n",
       "\n",
       "    .dataframe tbody tr th {\n",
       "        vertical-align: top;\n",
       "    }\n",
       "\n",
       "    .dataframe thead th {\n",
       "        text-align: right;\n",
       "    }\n",
       "</style>\n",
       "<table border=\"1\" class=\"dataframe\">\n",
       "  <thead>\n",
       "    <tr style=\"text-align: right;\">\n",
       "      <th></th>\n",
       "      <th>City</th>\n",
       "      <th>Lat</th>\n",
       "      <th>Lng</th>\n",
       "      <th>Max Temp</th>\n",
       "      <th>Humidity</th>\n",
       "      <th>Cloudiness</th>\n",
       "      <th>Wind Speed</th>\n",
       "      <th>Country</th>\n",
       "      <th>Date</th>\n",
       "    </tr>\n",
       "  </thead>\n",
       "  <tbody>\n",
       "    <tr>\n",
       "      <th>0</th>\n",
       "      <td>1,farsund,58.0948,6.8047,13.3,100,0,7.65,NO,16...</td>\n",
       "      <td>-16.3658</td>\n",
       "      <td>-71.5004</td>\n",
       "      <td>13.00</td>\n",
       "      <td>62</td>\n",
       "      <td>20</td>\n",
       "      <td>1.03</td>\n",
       "      <td>PE</td>\n",
       "      <td>2024-12-07 19:46:24</td>\n",
       "    </tr>\n",
       "    <tr>\n",
       "      <th>1</th>\n",
       "      <td>2,new norfolk,-42.7826,147.0587,11.72,58,12,1....</td>\n",
       "      <td>-16.3776</td>\n",
       "      <td>-71.5206</td>\n",
       "      <td>14.14</td>\n",
       "      <td>62</td>\n",
       "      <td>20</td>\n",
       "      <td>1.03</td>\n",
       "      <td>PE</td>\n",
       "      <td>2024-12-07 19:46:26</td>\n",
       "    </tr>\n",
       "    <tr>\n",
       "      <th>2</th>\n",
       "      <td>3,jamestown,42.097,-79.2353,5.77,77,100,9.77,U...</td>\n",
       "      <td>30.7894</td>\n",
       "      <td>29.7758</td>\n",
       "      <td>11.03</td>\n",
       "      <td>82</td>\n",
       "      <td>0</td>\n",
       "      <td>3.09</td>\n",
       "      <td>EG</td>\n",
       "      <td>2024-12-07 19:46:27</td>\n",
       "    </tr>\n",
       "    <tr>\n",
       "      <th>3</th>\n",
       "      <td>4,lanzhou,36.0564,103.7922,14.53,48,59,1.2,CN,...</td>\n",
       "      <td>-16.3775</td>\n",
       "      <td>-71.5200</td>\n",
       "      <td>14.14</td>\n",
       "      <td>62</td>\n",
       "      <td>20</td>\n",
       "      <td>1.03</td>\n",
       "      <td>PE</td>\n",
       "      <td>2024-12-07 19:46:28</td>\n",
       "    </tr>\n",
       "    <tr>\n",
       "      <th>4</th>\n",
       "      <td>5,ushuaia,-54.8,-68.3,8.81,81,75,3.09,AR,16661...</td>\n",
       "      <td>30.8066</td>\n",
       "      <td>29.7305</td>\n",
       "      <td>10.97</td>\n",
       "      <td>82</td>\n",
       "      <td>0</td>\n",
       "      <td>3.09</td>\n",
       "      <td>EG</td>\n",
       "      <td>2024-12-07 19:46:29</td>\n",
       "    </tr>\n",
       "  </tbody>\n",
       "</table>\n",
       "</div>"
      ],
      "text/plain": [
       "                                                City      Lat      Lng  \\\n",
       "0  1,farsund,58.0948,6.8047,13.3,100,0,7.65,NO,16... -16.3658 -71.5004   \n",
       "1  2,new norfolk,-42.7826,147.0587,11.72,58,12,1.... -16.3776 -71.5206   \n",
       "2  3,jamestown,42.097,-79.2353,5.77,77,100,9.77,U...  30.7894  29.7758   \n",
       "3  4,lanzhou,36.0564,103.7922,14.53,48,59,1.2,CN,... -16.3775 -71.5200   \n",
       "4  5,ushuaia,-54.8,-68.3,8.81,81,75,3.09,AR,16661...  30.8066  29.7305   \n",
       "\n",
       "   Max Temp  Humidity  Cloudiness  Wind Speed Country                 Date  \n",
       "0     13.00        62          20        1.03      PE  2024-12-07 19:46:24  \n",
       "1     14.14        62          20        1.03      PE  2024-12-07 19:46:26  \n",
       "2     11.03        82           0        3.09      EG  2024-12-07 19:46:27  \n",
       "3     14.14        62          20        1.03      PE  2024-12-07 19:46:28  \n",
       "4     10.97        82           0        3.09      EG  2024-12-07 19:46:29  "
      ]
     },
     "execution_count": 21,
     "metadata": {},
     "output_type": "execute_result"
    }
   ],
   "source": [
    "# Display sample data\n",
    "city_data_df.head()"
   ]
  },
  {
   "cell_type": "code",
   "execution_count": 22,
   "metadata": {},
   "outputs": [],
   "source": [
    "import os\n",
    "output_dir = \"output_data\"\n",
    "if not os.path.exists(output_dir):\n",
    "    os.makedirs(output_dir)"
   ]
  },
  {
   "cell_type": "code",
   "execution_count": 23,
   "metadata": {},
   "outputs": [],
   "source": [
    "# Export the City_Data into a csv\n",
    "city_data_df.to_csv(os.path.join(output_dir, \"cities.csv\"), index_label=\"City\")"
   ]
  },
  {
   "cell_type": "code",
   "execution_count": 24,
   "metadata": {},
   "outputs": [
    {
     "data": {
      "text/html": [
       "<div>\n",
       "<style scoped>\n",
       "    .dataframe tbody tr th:only-of-type {\n",
       "        vertical-align: middle;\n",
       "    }\n",
       "\n",
       "    .dataframe tbody tr th {\n",
       "        vertical-align: top;\n",
       "    }\n",
       "\n",
       "    .dataframe thead th {\n",
       "        text-align: right;\n",
       "    }\n",
       "</style>\n",
       "<table border=\"1\" class=\"dataframe\">\n",
       "  <thead>\n",
       "    <tr style=\"text-align: right;\">\n",
       "      <th></th>\n",
       "      <th>City.1</th>\n",
       "      <th>Lat</th>\n",
       "      <th>Lng</th>\n",
       "      <th>Max Temp</th>\n",
       "      <th>Humidity</th>\n",
       "      <th>Cloudiness</th>\n",
       "      <th>Wind Speed</th>\n",
       "      <th>Country</th>\n",
       "      <th>Date</th>\n",
       "    </tr>\n",
       "    <tr>\n",
       "      <th>City</th>\n",
       "      <th></th>\n",
       "      <th></th>\n",
       "      <th></th>\n",
       "      <th></th>\n",
       "      <th></th>\n",
       "      <th></th>\n",
       "      <th></th>\n",
       "      <th></th>\n",
       "      <th></th>\n",
       "    </tr>\n",
       "  </thead>\n",
       "  <tbody>\n",
       "    <tr>\n",
       "      <th>0</th>\n",
       "      <td>1,farsund,58.0948,6.8047,13.3,100,0,7.65,NO,16...</td>\n",
       "      <td>-16.3658</td>\n",
       "      <td>-71.5004</td>\n",
       "      <td>13.00</td>\n",
       "      <td>62</td>\n",
       "      <td>20</td>\n",
       "      <td>1.03</td>\n",
       "      <td>PE</td>\n",
       "      <td>2024-12-07 19:46:24</td>\n",
       "    </tr>\n",
       "    <tr>\n",
       "      <th>1</th>\n",
       "      <td>2,new norfolk,-42.7826,147.0587,11.72,58,12,1....</td>\n",
       "      <td>-16.3776</td>\n",
       "      <td>-71.5206</td>\n",
       "      <td>14.14</td>\n",
       "      <td>62</td>\n",
       "      <td>20</td>\n",
       "      <td>1.03</td>\n",
       "      <td>PE</td>\n",
       "      <td>2024-12-07 19:46:26</td>\n",
       "    </tr>\n",
       "    <tr>\n",
       "      <th>2</th>\n",
       "      <td>3,jamestown,42.097,-79.2353,5.77,77,100,9.77,U...</td>\n",
       "      <td>30.7894</td>\n",
       "      <td>29.7758</td>\n",
       "      <td>11.03</td>\n",
       "      <td>82</td>\n",
       "      <td>0</td>\n",
       "      <td>3.09</td>\n",
       "      <td>EG</td>\n",
       "      <td>2024-12-07 19:46:27</td>\n",
       "    </tr>\n",
       "    <tr>\n",
       "      <th>3</th>\n",
       "      <td>4,lanzhou,36.0564,103.7922,14.53,48,59,1.2,CN,...</td>\n",
       "      <td>-16.3775</td>\n",
       "      <td>-71.5200</td>\n",
       "      <td>14.14</td>\n",
       "      <td>62</td>\n",
       "      <td>20</td>\n",
       "      <td>1.03</td>\n",
       "      <td>PE</td>\n",
       "      <td>2024-12-07 19:46:28</td>\n",
       "    </tr>\n",
       "    <tr>\n",
       "      <th>4</th>\n",
       "      <td>5,ushuaia,-54.8,-68.3,8.81,81,75,3.09,AR,16661...</td>\n",
       "      <td>30.8066</td>\n",
       "      <td>29.7305</td>\n",
       "      <td>10.97</td>\n",
       "      <td>82</td>\n",
       "      <td>0</td>\n",
       "      <td>3.09</td>\n",
       "      <td>EG</td>\n",
       "      <td>2024-12-07 19:46:29</td>\n",
       "    </tr>\n",
       "  </tbody>\n",
       "</table>\n",
       "</div>"
      ],
      "text/plain": [
       "                                                 City.1      Lat      Lng  \\\n",
       "City                                                                        \n",
       "0     1,farsund,58.0948,6.8047,13.3,100,0,7.65,NO,16... -16.3658 -71.5004   \n",
       "1     2,new norfolk,-42.7826,147.0587,11.72,58,12,1.... -16.3776 -71.5206   \n",
       "2     3,jamestown,42.097,-79.2353,5.77,77,100,9.77,U...  30.7894  29.7758   \n",
       "3     4,lanzhou,36.0564,103.7922,14.53,48,59,1.2,CN,... -16.3775 -71.5200   \n",
       "4     5,ushuaia,-54.8,-68.3,8.81,81,75,3.09,AR,16661...  30.8066  29.7305   \n",
       "\n",
       "      Max Temp  Humidity  Cloudiness  Wind Speed Country                 Date  \n",
       "City                                                                           \n",
       "0        13.00        62          20        1.03      PE  2024-12-07 19:46:24  \n",
       "1        14.14        62          20        1.03      PE  2024-12-07 19:46:26  \n",
       "2        11.03        82           0        3.09      EG  2024-12-07 19:46:27  \n",
       "3        14.14        62          20        1.03      PE  2024-12-07 19:46:28  \n",
       "4        10.97        82           0        3.09      EG  2024-12-07 19:46:29  "
      ]
     },
     "execution_count": 24,
     "metadata": {},
     "output_type": "execute_result"
    }
   ],
   "source": [
    "# Read saved data\n",
    "city_data_df = pd.read_csv(\"output_data/cities.csv\", index_col=\"City\")\n",
    "\n",
    "# Display sample data\n",
    "city_data_df.head()"
   ]
  },
  {
   "cell_type": "markdown",
   "metadata": {},
   "source": [
    "### Create the Scatter Plots Requested\n",
    "\n",
    "#### Latitude Vs. Temperature"
   ]
  },
  {
   "cell_type": "code",
   "execution_count": 29,
   "metadata": {},
   "outputs": [
    {
     "data": {
      "text/plain": [
       "<bound method NDFrame.head of                                                  City.1      Lat       Lng  \\\n",
       "City                                                                         \n",
       "0     1,farsund,58.0948,6.8047,13.3,100,0,7.65,NO,16... -16.3658  -71.5004   \n",
       "1     2,new norfolk,-42.7826,147.0587,11.72,58,12,1.... -16.3776  -71.5206   \n",
       "2     3,jamestown,42.097,-79.2353,5.77,77,100,9.77,U...  30.7894   29.7758   \n",
       "3     4,lanzhou,36.0564,103.7922,14.53,48,59,1.2,CN,... -16.3775  -71.5200   \n",
       "4     5,ushuaia,-54.8,-68.3,8.81,81,75,3.09,AR,16661...  30.8066   29.7305   \n",
       "...                                                 ...      ...       ...   \n",
       "182   391,saint-francois,46.4154,3.9054,23.69,57,0,4...  14.5994  120.9887   \n",
       "183   394,quesnel,52.9999,-122.5029,1.28,93,0,1.03,C...  14.5998  120.9854   \n",
       "184   404,georgiyevskoye,58.731,45.024,5.97,93,100,2...  40.2042   97.3460   \n",
       "185   475,nabire,-3.3667,135.4833,24.46,91,100,1.57,...  34.4163 -106.7679   \n",
       "186   568,road town,18.4167,-64.6167,31.02,70,40,4.1...  36.7411    3.3475   \n",
       "\n",
       "      Max Temp  Humidity  Cloudiness  Wind Speed Country                 Date  \n",
       "City                                                                           \n",
       "0        13.00        62          20        1.03      PE  2024-12-07 19:46:24  \n",
       "1        14.14        62          20        1.03      PE  2024-12-07 19:46:26  \n",
       "2        11.03        82           0        3.09      EG  2024-12-07 19:46:27  \n",
       "3        14.14        62          20        1.03      PE  2024-12-07 19:46:28  \n",
       "4        10.97        82           0        3.09      EG  2024-12-07 19:46:29  \n",
       "...        ...       ...         ...         ...     ...                  ...  \n",
       "182      31.19        73          40        2.57      PH  2024-12-07 19:53:58  \n",
       "183      31.19        73          40        2.57      PH  2024-12-07 19:54:02  \n",
       "184      -7.79        71          29        1.00      CN  2024-12-07 19:54:14  \n",
       "185       6.90        58           0        3.13      US  2024-12-07 19:55:39  \n",
       "186      17.03        59          75        6.69      DZ  2024-12-07 19:57:31  \n",
       "\n",
       "[187 rows x 9 columns]>"
      ]
     },
     "execution_count": 29,
     "metadata": {},
     "output_type": "execute_result"
    }
   ],
   "source": [
    "city_data_df.head"
   ]
  },
  {
   "cell_type": "code",
   "execution_count": 28,
   "metadata": {
    "tags": []
   },
   "outputs": [
    {
     "data": {
      "image/png": "[encoded data removed]",
      "text/plain": [
       "<Figure size 640x480 with 1 Axes>"
      ]
     },
     "metadata": {},
     "output_type": "display_data"
    }
   ],
   "source": [
    "# Build scatter plot for latitude vs. temperature\n",
    "plt.scatter(city_data_df[\"Lat\"], city_data_df[\"Max Temp\"], marker=\"o\")\n",
    "\n",
    "# Incorporate the other graph properties\n",
    "plt.title(\"Temperature vs. Latitude\")\n",
    "plt.xlabel(\"Latitude\")\n",
    "plt.ylabel(\"Temperature (Celsius)\")\n",
    "plt.grid(True)\n",
    "\n",
    "# Save the figure\n",
    "plt.savefig(\"output_data/Fig1.png\")\n",
    "\n",
    "# Show plot\n",
    "plt.show()"
   ]
  },
  {
   "cell_type": "markdown",
   "metadata": {},
   "source": [
    "#### Latitude Vs. Humidity"
   ]
  },
  {
   "cell_type": "code",
   "execution_count": 31,
   "metadata": {},
   "outputs": [
    {
     "data": {
      "image/png": "[encoded data removed]",
      "text/plain": [
       "<Figure size 640x480 with 1 Axes>"
      ]
     },
     "metadata": {},
     "output_type": "display_data"
    }
   ],
   "source": [
    "# Build the scatter plots for latitude vs. humidity\n",
    "plt.scatter(city_data_df[\"Lat\"], city_data_df[\"Humidity\"], marker=\"o\")\n",
    "\n",
    "# Incorporate the other graph properties\n",
    "plt.title(\"Humidity vs. Latitude\")\n",
    "plt.xlabel(\"Latitude\")\n",
    "plt.ylabel(\"Humidity (%)\")\n",
    "plt.grid(True)\n",
    "\n",
    "# Save the figure\n",
    "plt.savefig(\"output_data/Fig2.png\")\n",
    "\n",
    "# Show plot\n",
    "plt.show()"
   ]
  },
  {
   "cell_type": "markdown",
   "metadata": {},
   "source": [
    "#### Latitude Vs. Cloudiness"
   ]
  },
  {
   "cell_type": "code",
   "execution_count": 32,
   "metadata": {},
   "outputs": [
    {
     "data": {
      "image/png": "[encoded data removed]",
      "text/plain": [
       "<Figure size 640x480 with 1 Axes>"
      ]
     },
     "metadata": {},
     "output_type": "display_data"
    }
   ],
   "source": [
    "# Build the scatter plots for latitude vs. cloudiness\n",
    "plt.scatter(city_data_df[\"Lat\"], city_data_df[\"Cloudiness\"], marker=\"o\")\n",
    "\n",
    "# Incorporate the other graph properties\n",
    "plt.title(\"Cloudiness vs. Latitude\")\n",
    "plt.xlabel(\"Latitude\")\n",
    "plt.ylabel(\"Cloudiness (%)\")\n",
    "plt.grid(True)\n",
    "\n",
    "# Save the figure\n",
    "plt.savefig(\"output_data/Fig3.png\")\n",
    "\n",
    "# Show plot\n",
    "plt.show()"
   ]
  },
  {
   "cell_type": "markdown",
   "metadata": {},
   "source": [
    "#### Latitude vs. Wind Speed Plot"
   ]
  },
  {
   "cell_type": "code",
   "execution_count": 34,
   "metadata": {},
   "outputs": [
    {
     "data": {
      "image/png": "[encoded data removed]",
      "text/plain": [
       "<Figure size 640x480 with 1 Axes>"
      ]
     },
     "metadata": {},
     "output_type": "display_data"
    }
   ],
   "source": [
    "# Build the scatter plots for latitude vs. wind speed\n",
    "plt.scatter(city_data_df[\"Lat\"], city_data_df[\"Wind Speed\"], marker=\"o\")\n",
    "\n",
    "# Incorporate the other graph properties\n",
    "plt.title(\"Wind Speed vs. Latitude\")\n",
    "plt.xlabel(\"Latitude\")\n",
    "plt.ylabel(\"Wind Speed (m/s)\")\n",
    "plt.grid(True)\n",
    "\n",
    "# Save the figure\n",
    "plt.savefig(\"output_data/Fig4.png\")\n",
    "\n",
    "# Show plot\n",
    "plt.show()"
   ]
  },
  {
   "cell_type": "markdown",
   "metadata": {},
   "source": [
    "---\n",
    "\n",
    "## Requirement 2: Compute Linear Regression for Each Relationship\n"
   ]
  },
  {
   "cell_type": "code",
   "execution_count": null,
   "metadata": {},
   "outputs": [],
   "source": [
    "# Define a function to create Linear Regression plots\n",
    "# YOUR CODE HERE"
   ]
  },
  {
   "cell_type": "code",
   "execution_count": null,
   "metadata": {},
   "outputs": [],
   "source": [
    "# Create a DataFrame with the Northern Hemisphere data (Latitude >= 0)\n",
    "# YOUR CODE HERE\n",
    "\n",
    "# Display sample data\n",
    "northern_hemi_df.head()"
   ]
  },
  {
   "cell_type": "code",
   "execution_count": null,
   "metadata": {},
   "outputs": [],
   "source": [
    "# Create a DataFrame with the Southern Hemisphere data (Latitude < 0)\n",
    "# YOUR CODE HERE\n",
    "\n",
    "# Display sample data\n",
    "southern_hemi_df.head()"
   ]
  },
  {
   "cell_type": "markdown",
   "metadata": {},
   "source": [
    "###  Temperature vs. Latitude Linear Regression Plot"
   ]
  },
  {
   "cell_type": "code",
   "execution_count": null,
   "metadata": {},
   "outputs": [],
   "source": [
    "# Linear regression on Northern Hemisphere\n",
    "# YOUR CODE HERE"
   ]
  },
  {
   "cell_type": "code",
   "execution_count": null,
   "metadata": {},
   "outputs": [],
   "source": [
    "# Linear regression on Southern Hemisphere\n",
    "# YOUR CODE HERE"
   ]
  },
  {
   "cell_type": "markdown",
   "metadata": {},
   "source": [
    "**Discussion about the linear relationship:** YOUR RESPONSE HERE"
   ]
  },
  {
   "cell_type": "markdown",
   "metadata": {},
   "source": [
    "### Humidity vs. Latitude Linear Regression Plot"
   ]
  },
  {
   "cell_type": "code",
   "execution_count": null,
   "metadata": {},
   "outputs": [],
   "source": [
    "# Northern Hemisphere\n",
    "# YOUR CODE HERE"
   ]
  },
  {
   "cell_type": "code",
   "execution_count": null,
   "metadata": {},
   "outputs": [],
   "source": [
    "# Southern Hemisphere\n",
    "# YOUR CODE HERE"
   ]
  },
  {
   "cell_type": "markdown",
   "metadata": {},
   "source": [
    "**Discussion about the linear relationship:** YOUR RESPONSE HERE"
   ]
  },
  {
   "cell_type": "markdown",
   "metadata": {},
   "source": [
    "### Cloudiness vs. Latitude Linear Regression Plot"
   ]
  },
  {
   "cell_type": "code",
   "execution_count": null,
   "metadata": {},
   "outputs": [],
   "source": [
    "# Northern Hemisphere\n",
    "# YOUR CODE HERE"
   ]
  },
  {
   "cell_type": "code",
   "execution_count": null,
   "metadata": {},
   "outputs": [],
   "source": [
    "# Southern Hemisphere\n",
    "# YOUR CODE HERE"
   ]
  },
  {
   "cell_type": "markdown",
   "metadata": {},
   "source": [
    "**Discussion about the linear relationship:** YOUR RESPONSE HERE"
   ]
  },
  {
   "cell_type": "markdown",
   "metadata": {},
   "source": [
    "### Wind Speed vs. Latitude Linear Regression Plot"
   ]
  },
  {
   "cell_type": "code",
   "execution_count": null,
   "metadata": {},
   "outputs": [],
   "source": [
    "# Northern Hemisphere\n",
    "# YOUR CODE HERE"
   ]
  },
  {
   "cell_type": "code",
   "execution_count": null,
   "metadata": {},
   "outputs": [],
   "source": [
    "# Southern Hemisphere\n",
    "# YOUR CODE HERE"
   ]
  },
  {
   "cell_type": "markdown",
   "metadata": {},
   "source": [
    "**Discussion about the linear relationship:** YOUR RESPONSE HERE"
   ]
  },
  {
   "cell_type": "code",
   "execution_count": null,
   "metadata": {},
   "outputs": [],
   "source": []
  }
 ],
 "metadata": {
  "anaconda-cloud": {},
  "kernel_info": {
   "name": "python3"
  },
  "kernelspec": {
   "display_name": "dev",
   "language": "python",
   "name": "python3"
  },
  "language_info": {
   "codemirror_mode": {
    "name": "ipython",
    "version": 3
   },
   "file_extension": ".py",
   "mimetype": "text/x-python",
   "name": "python",
   "nbconvert_exporter": "python",
   "pygments_lexer": "ipython3",
   "version": "3.13.0"
  },
  "latex_envs": {
   "LaTeX_envs_menu_present": true,
   "autoclose": false,
   "autocomplete": true,
   "bibliofile": "biblio.bib",
   "cite_by": "apalike",
   "current_citInitial": 1,
   "eqLabelWithNumbers": true,
   "eqNumInitial": 1,
   "hotkeys": {
    "equation": "Ctrl-E",
    "itemize": "Ctrl-I"
   },
   "labels_anchors": false,
   "latex_user_defs": false,
   "report_style_numbering": false,
   "user_envs_cfg": false
  },
  "nteract": {
   "version": "0.12.3"
  }
 },
 "nbformat": 4,
 "nbformat_minor": 4
}
